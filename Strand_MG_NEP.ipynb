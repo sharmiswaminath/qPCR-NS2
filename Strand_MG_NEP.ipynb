{
 "cells": [
  {
   "cell_type": "code",
   "execution_count": 1,
   "id": "3ec6be29",
   "metadata": {},
   "outputs": [
    {
     "data": {
      "text/html": [
       "<div>\n",
       "<style scoped>\n",
       "    .dataframe tbody tr th:only-of-type {\n",
       "        vertical-align: middle;\n",
       "    }\n",
       "\n",
       "    .dataframe tbody tr th {\n",
       "        vertical-align: top;\n",
       "    }\n",
       "\n",
       "    .dataframe thead th {\n",
       "        text-align: right;\n",
       "    }\n",
       "</style>\n",
       "<table border=\"1\" class=\"dataframe\">\n",
       "  <thead>\n",
       "    <tr style=\"text-align: right;\">\n",
       "      <th></th>\n",
       "      <th>Strand</th>\n",
       "      <th>Target</th>\n",
       "      <th>Condition</th>\n",
       "      <th>Replicate</th>\n",
       "      <th>Value</th>\n",
       "    </tr>\n",
       "  </thead>\n",
       "  <tbody>\n",
       "    <tr>\n",
       "      <th>0</th>\n",
       "      <td>PB1</td>\n",
       "      <td>200nt</td>\n",
       "      <td>NoNS2</td>\n",
       "      <td>1</td>\n",
       "      <td>6.2301</td>\n",
       "    </tr>\n",
       "    <tr>\n",
       "      <th>1</th>\n",
       "      <td>PB1</td>\n",
       "      <td>200nt</td>\n",
       "      <td>NoNS2</td>\n",
       "      <td>2</td>\n",
       "      <td>6.2864</td>\n",
       "    </tr>\n",
       "    <tr>\n",
       "      <th>2</th>\n",
       "      <td>PB1</td>\n",
       "      <td>200nt</td>\n",
       "      <td>NoNS2</td>\n",
       "      <td>3</td>\n",
       "      <td>6.0682</td>\n",
       "    </tr>\n",
       "    <tr>\n",
       "      <th>3</th>\n",
       "      <td>PB1</td>\n",
       "      <td>400nt</td>\n",
       "      <td>NoNS2</td>\n",
       "      <td>1</td>\n",
       "      <td>4.3622</td>\n",
       "    </tr>\n",
       "    <tr>\n",
       "      <th>4</th>\n",
       "      <td>PB1</td>\n",
       "      <td>400nt</td>\n",
       "      <td>NoNS2</td>\n",
       "      <td>2</td>\n",
       "      <td>4.2364</td>\n",
       "    </tr>\n",
       "  </tbody>\n",
       "</table>\n",
       "</div>"
      ],
      "text/plain": [
       "  Strand Target Condition  Replicate   Value\n",
       "0    PB1  200nt     NoNS2          1  6.2301\n",
       "1    PB1  200nt     NoNS2          2  6.2864\n",
       "2    PB1  200nt     NoNS2          3  6.0682\n",
       "3    PB1  400nt     NoNS2          1  4.3622\n",
       "4    PB1  400nt     NoNS2          2  4.2364"
      ]
     },
     "execution_count": 1,
     "metadata": {},
     "output_type": "execute_result"
    }
   ],
   "source": [
    "import pandas as pd\n",
    "import seaborn as sns\n",
    "import matplotlib.pyplot as plt\n",
    "import matplotlib.pyplot as plt\n",
    "import scipy\n",
    "from scipy import stats\n",
    "from statsmodels.stats import multitest\n",
    "import numpy as np\n",
    "from statsmodels.stats.multicomp import pairwise_tukeyhsd\n",
    "from scipy import stats\n",
    "from scipy.stats import ttest_rel\n",
    "\n",
    "data_PB1 = pd.read_csv(\"PB1_MG_NEP_12.01.23.csv\")\n",
    "data_PB1.head()"
   ]
  },
  {
   "cell_type": "code",
   "execution_count": 2,
   "id": "ada1dcee",
   "metadata": {},
   "outputs": [
    {
     "data": {
      "image/png": "[encoded data removed]",
      "text/plain": [
       "<Figure size 432x288 with 1 Axes>"
      ]
     },
     "metadata": {
      "needs_background": "light"
     },
     "output_type": "display_data"
    }
   ],
   "source": [
    "nameOrder = ['200nt','400nt', '800nt']\n",
    "ax=sns.stripplot(data = data_PB1, x='Target', y='Value', edgecolor='black', \n",
    "           jitter=True, dodge=True, linewidth=1, s=9, hue=\"Condition\", hue_order=['NoNS2','NS2'], alpha = 0.5)\n",
    "\n",
    "sns.despine()\n",
    "ax.legend( ['-NS2','+NS2'], bbox_to_anchor=(1.05, 0.7), loc=2, borderaxespad=0.,frameon=False, title='PB1')\n",
    "\n",
    "plt.ylabel('log$2$(1600/length)')\n",
    "ax.set_yscale('log', base=2)\n",
    "ax.set_ylim(1,8)\n",
    "\n",
    "for legend_handle in ax.get_legend().legendHandles:  \n",
    "       legend_handle.set_edgecolor('black')\n",
    "    \n",
    "for position, target in enumerate(['200nt', '400nt', '800nt']):\n",
    "    y = data_PB1[(data_PB1.Condition == 'NoNS2') & (data_PB1.Target == target)].Value.mean()\n",
    "    plt.plot([position-0.325, position-0.075], [y, y], lw=2, c='k', zorder=5)\n",
    "    y = data_PB1[(data_PB1.Condition == 'NS2') & (data_PB1.Target == target)].Value.mean()\n",
    "    plt.plot([position+0.075, position+0.325], [y, y], lw=2, c='k', zorder=5)   \n",
    "\n"
   ]
  },
  {
   "cell_type": "code",
   "execution_count": 26,
   "id": "ad7c0ec4",
   "metadata": {},
   "outputs": [
    {
     "name": "stdout",
     "output_type": "stream",
     "text": [
      "0.00021674446429331923\n",
      "0.03465180001508058\n",
      "0.8450574865308237\n"
     ]
    },
    {
     "data": {
      "image/png": "[encoded data removed]",
      "text/plain": [
       "<Figure size 432x288 with 1 Axes>"
      ]
     },
     "metadata": {
      "needs_background": "light"
     },
     "output_type": "display_data"
    }
   ],
   "source": [
    "nameOrder = ['200nt','400nt', '800nt']\n",
    "\n",
    "ax=sns.stripplot(data = data_PB1, x='Target', y='Value', edgecolor='black', \n",
    "           jitter=True, dodge=True, linewidth=1, s=11, hue=\"Condition\", hue_order=['NoNS2','NS2'], palette=['1','0'], alpha = 1)\n",
    "\n",
    "sns.despine()\n",
    "ax.legend( ['-NS2','+NS2'], bbox_to_anchor=(0.85, 1), loc=2, fontsize = 12, borderaxespad=0.,frameon=False)\n",
    "\n",
    "plt.ylabel('log$2$(1600/length)', size=14)\n",
    "plt.ylim(1,7)\n",
    "plt.yticks(fontsize=12)\n",
    "plt.xlabel('Length', size = 14)\n",
    "plt.xticks(fontsize=12)\n",
    "\n",
    "for legend_handle in ax.get_legend().legendHandles:  \n",
    "       legend_handle.set_edgecolor('black')\n",
    "    \n",
    "for position, target in enumerate(['200nt', '400nt', '800nt']):\n",
    "    y = data_PB1[(data_PB1.Condition == 'NoNS2') & (data_PB1.Target == target)].Value.mean()\n",
    "    plt.plot([position-0.325, position-0.075], [y, y], lw=2, c='k', zorder=5)\n",
    "    y = data_PB1[(data_PB1.Condition == 'NS2') & (data_PB1.Target == target)].Value.mean()\n",
    "    plt.plot([position+0.075, position+0.325], [y, y], lw=2, c='k', zorder=5)\n",
    "    \n",
    "#Independent t-test\n",
    "Size_200_NoNS2=data_PB1[(data_PB1.Condition == 'NoNS2') & (data_PB1.Target == '200nt' )].Value\n",
    "Size_200_NS2=data_PB1[(data_PB1.Condition == 'NS2') & (data_PB1.Target == '200nt')].Value\n",
    "t_stat, p_val_1 = stats.ttest_ind(Size_200_NoNS2, Size_200_NS2)\n",
    "print (p_val_1)\n",
    "\n",
    "Size_400_NoNS2=data_PB1[(data_PB1.Condition == 'NoNS2') & (data_PB1.Target == '400nt' )].Value\n",
    "Size_400_NS2=data_PB1[(data_PB1.Condition == 'NS2') & (data_PB1.Target == '400nt')].Value\n",
    "t_stat, p_val_2 = stats.ttest_ind(Size_400_NoNS2, Size_400_NS2)\n",
    "print (p_val_2)\n",
    "\n",
    "Size_800_NoNS2=data_PB1[(data_PB1.Condition == 'NoNS2') & (data_PB1.Target == '800nt' )].Value\n",
    "Size_800_NS2=data_PB1[(data_PB1.Condition == 'NS2') & (data_PB1.Target == '800nt')].Value\n",
    "t_stat, p_val_2 = stats.ttest_ind(Size_800_NoNS2, Size_800_NS2)\n",
    "print (p_val_2)\n",
    "\n",
    "plt.savefig('Figures/PB1_Segment.pdf', format='pdf', bbox_inches = \"tight\")\n",
    "\n"
   ]
  },
  {
   "cell_type": "code",
   "execution_count": 17,
   "id": "fb113f72",
   "metadata": {},
   "outputs": [
    {
     "data": {
      "text/html": [
       "<div>\n",
       "<style scoped>\n",
       "    .dataframe tbody tr th:only-of-type {\n",
       "        vertical-align: middle;\n",
       "    }\n",
       "\n",
       "    .dataframe tbody tr th {\n",
       "        vertical-align: top;\n",
       "    }\n",
       "\n",
       "    .dataframe thead th {\n",
       "        text-align: right;\n",
       "    }\n",
       "</style>\n",
       "<table border=\"1\" class=\"dataframe\">\n",
       "  <thead>\n",
       "    <tr style=\"text-align: right;\">\n",
       "      <th></th>\n",
       "      <th>Strand</th>\n",
       "      <th>Target</th>\n",
       "      <th>Condition</th>\n",
       "      <th>Replicate</th>\n",
       "      <th>Value</th>\n",
       "    </tr>\n",
       "  </thead>\n",
       "  <tbody>\n",
       "    <tr>\n",
       "      <th>0</th>\n",
       "      <td>HA</td>\n",
       "      <td>200nt</td>\n",
       "      <td>NoNS2</td>\n",
       "      <td>1</td>\n",
       "      <td>8.23</td>\n",
       "    </tr>\n",
       "    <tr>\n",
       "      <th>1</th>\n",
       "      <td>HA</td>\n",
       "      <td>200nt</td>\n",
       "      <td>NoNS2</td>\n",
       "      <td>2</td>\n",
       "      <td>8.20</td>\n",
       "    </tr>\n",
       "    <tr>\n",
       "      <th>2</th>\n",
       "      <td>HA</td>\n",
       "      <td>200nt</td>\n",
       "      <td>NoNS2</td>\n",
       "      <td>3</td>\n",
       "      <td>8.23</td>\n",
       "    </tr>\n",
       "    <tr>\n",
       "      <th>3</th>\n",
       "      <td>HA</td>\n",
       "      <td>400nt</td>\n",
       "      <td>NoNS2</td>\n",
       "      <td>1</td>\n",
       "      <td>6.39</td>\n",
       "    </tr>\n",
       "    <tr>\n",
       "      <th>4</th>\n",
       "      <td>HA</td>\n",
       "      <td>400nt</td>\n",
       "      <td>NoNS2</td>\n",
       "      <td>2</td>\n",
       "      <td>6.38</td>\n",
       "    </tr>\n",
       "  </tbody>\n",
       "</table>\n",
       "</div>"
      ],
      "text/plain": [
       "  Strand Target Condition  Replicate  Value\n",
       "0     HA  200nt     NoNS2          1   8.23\n",
       "1     HA  200nt     NoNS2          2   8.20\n",
       "2     HA  200nt     NoNS2          3   8.23\n",
       "3     HA  400nt     NoNS2          1   6.39\n",
       "4     HA  400nt     NoNS2          2   6.38"
      ]
     },
     "execution_count": 17,
     "metadata": {},
     "output_type": "execute_result"
    }
   ],
   "source": [
    "import pandas as pd\n",
    "import seaborn as sns\n",
    "import matplotlib.pyplot as plt\n",
    "import matplotlib.pyplot as plt\n",
    "import scipy\n",
    "from scipy import stats\n",
    "from statsmodels.stats import multitest\n",
    "import numpy as np\n",
    "from statsmodels.stats.multicomp import pairwise_tukeyhsd\n",
    "from scipy import stats\n",
    "from scipy.stats import ttest_rel\n",
    "\n",
    "data_HA = pd.read_csv(\"HA_MG_NEP_2.21.24.csv\")\n",
    "data_HA.head()"
   ]
  },
  {
   "cell_type": "code",
   "execution_count": 18,
   "id": "d2df78b6",
   "metadata": {},
   "outputs": [
    {
     "name": "stdout",
     "output_type": "stream",
     "text": [
      "0.16674260781197583\n",
      "0.19066420022281086\n",
      "0.19603056558366388\n"
     ]
    },
    {
     "data": {
      "image/png": "[encoded data removed]",
      "text/plain": [
       "<Figure size 432x288 with 1 Axes>"
      ]
     },
     "metadata": {
      "needs_background": "light"
     },
     "output_type": "display_data"
    }
   ],
   "source": [
    "nameOrder = ['200nt','400nt', '800nt']\n",
    "ax=sns.stripplot(data = data_HA, x='Target', y='Value', edgecolor='black', \n",
    "           jitter=True, dodge=True, linewidth=1, s=9, hue=\"Condition\", hue_order=['NoNS2','NS2'],  alpha = 0.3)\n",
    "\n",
    "sns.despine()\n",
    "ax.legend( ['-NS2','+NS2'], bbox_to_anchor=(1.05, 0.7), loc=2, borderaxespad=0.,frameon=False, title='HA')\n",
    "\n",
    "plt.ylabel('log$2$(1600/length)')\n",
    "\n",
    "for legend_handle in ax.get_legend().legendHandles:  \n",
    "       legend_handle.set_edgecolor('black')\n",
    "    \n",
    "for position, target in enumerate(['200nt', '400nt', '800nt']):\n",
    "    y = data_HA[(data_HA.Condition == 'NoNS2') & (data_HA.Target == target)].Value.mean()\n",
    "    plt.plot([position-0.325, position-0.075], [y, y], lw=2, c='k', zorder=5)\n",
    "    y = data_HA[(data_HA.Condition == 'NS2') & (data_HA.Target == target)].Value.mean()\n",
    "    plt.plot([position+0.075, position+0.325], [y, y], lw=2, c='k', zorder=5)\n",
    "    \n",
    "#Independent t-test\n",
    "Size_200_NoNS2=data_HA[(data_HA.Condition == 'NoNS2') & (data_HA.Target == '200nt' )].Value\n",
    "Size_200_NS2=data_HA[(data_HA.Condition == 'NS2') & (data_HA.Target == '200nt')].Value\n",
    "t_stat, p_val_1 = stats.ttest_ind(Size_200_NoNS2, Size_200_NS2)\n",
    "print (p_val_1)\n",
    "\n",
    "Size_400_NoNS2=data_HA[(data_HA.Condition == 'NoNS2') & (data_HA.Target == '400nt' )].Value\n",
    "Size_400_NS2=data_HA[(data_HA.Condition == 'NS2') & (data_HA.Target == '400nt')].Value\n",
    "t_stat, p_val_2 = stats.ttest_ind(Size_400_NoNS2, Size_400_NS2)\n",
    "print (p_val_2)\n",
    "\n",
    "Size_800_NoNS2=data_HA[(data_HA.Condition == 'NoNS2') & (data_HA.Target == '800nt' )].Value\n",
    "Size_800_NS2=data_HA[(data_HA.Condition == 'NS2') & (data_HA.Target == '800nt')].Value\n",
    "t_stat, p_val_3 = stats.ttest_ind(Size_800_NoNS2, Size_800_NS2)\n",
    "print (p_val_3)\n",
    "\n"
   ]
  },
  {
   "cell_type": "code",
   "execution_count": 23,
   "id": "efe6a7ce",
   "metadata": {},
   "outputs": [
    {
     "data": {
      "text/html": [
       "<div>\n",
       "<style scoped>\n",
       "    .dataframe tbody tr th:only-of-type {\n",
       "        vertical-align: middle;\n",
       "    }\n",
       "\n",
       "    .dataframe tbody tr th {\n",
       "        vertical-align: top;\n",
       "    }\n",
       "\n",
       "    .dataframe thead th {\n",
       "        text-align: right;\n",
       "    }\n",
       "</style>\n",
       "<table border=\"1\" class=\"dataframe\">\n",
       "  <thead>\n",
       "    <tr style=\"text-align: right;\">\n",
       "      <th></th>\n",
       "      <th>Strand</th>\n",
       "      <th>Target</th>\n",
       "      <th>Condition</th>\n",
       "      <th>Replicate</th>\n",
       "      <th>Value</th>\n",
       "    </tr>\n",
       "  </thead>\n",
       "  <tbody>\n",
       "    <tr>\n",
       "      <th>0</th>\n",
       "      <td>HA</td>\n",
       "      <td>200nt</td>\n",
       "      <td>NoNS2</td>\n",
       "      <td>1</td>\n",
       "      <td>7.97</td>\n",
       "    </tr>\n",
       "    <tr>\n",
       "      <th>1</th>\n",
       "      <td>HA</td>\n",
       "      <td>200nt</td>\n",
       "      <td>NoNS2</td>\n",
       "      <td>2</td>\n",
       "      <td>8.05</td>\n",
       "    </tr>\n",
       "    <tr>\n",
       "      <th>2</th>\n",
       "      <td>HA</td>\n",
       "      <td>200nt</td>\n",
       "      <td>NoNS2</td>\n",
       "      <td>3</td>\n",
       "      <td>8.24</td>\n",
       "    </tr>\n",
       "    <tr>\n",
       "      <th>3</th>\n",
       "      <td>HA</td>\n",
       "      <td>400nt</td>\n",
       "      <td>NoNS2</td>\n",
       "      <td>1</td>\n",
       "      <td>5.91</td>\n",
       "    </tr>\n",
       "    <tr>\n",
       "      <th>4</th>\n",
       "      <td>HA</td>\n",
       "      <td>400nt</td>\n",
       "      <td>NoNS2</td>\n",
       "      <td>2</td>\n",
       "      <td>5.99</td>\n",
       "    </tr>\n",
       "  </tbody>\n",
       "</table>\n",
       "</div>"
      ],
      "text/plain": [
       "  Strand Target Condition  Replicate  Value\n",
       "0     HA  200nt     NoNS2          1   7.97\n",
       "1     HA  200nt     NoNS2          2   8.05\n",
       "2     HA  200nt     NoNS2          3   8.24\n",
       "3     HA  400nt     NoNS2          1   5.91\n",
       "4     HA  400nt     NoNS2          2   5.99"
      ]
     },
     "execution_count": 23,
     "metadata": {},
     "output_type": "execute_result"
    }
   ],
   "source": [
    "import pandas as pd\n",
    "import seaborn as sns\n",
    "import matplotlib.pyplot as plt\n",
    "import matplotlib.pyplot as plt\n",
    "import scipy\n",
    "from scipy import stats\n",
    "from statsmodels.stats import multitest\n",
    "import numpy as np\n",
    "from statsmodels.stats.multicomp import pairwise_tukeyhsd\n",
    "from scipy import stats\n",
    "from scipy.stats import ttest_rel\n",
    "\n",
    "data_HA = pd.read_csv(\"HA_MG_NEP_12.7.23.csv\")\n",
    "data_HA.head()"
   ]
  },
  {
   "cell_type": "code",
   "execution_count": 24,
   "id": "57f37d92",
   "metadata": {},
   "outputs": [
    {
     "name": "stdout",
     "output_type": "stream",
     "text": [
      "0.0006382307723046885\n",
      "8.744424305560528e-05\n",
      "0.0002766193825095831\n"
     ]
    },
    {
     "data": {
      "image/png": "[encoded data removed]",
      "text/plain": [
       "<Figure size 432x288 with 1 Axes>"
      ]
     },
     "metadata": {
      "needs_background": "light"
     },
     "output_type": "display_data"
    }
   ],
   "source": [
    "nameOrder = ['200nt','400nt', '800nt']\n",
    "ax=sns.stripplot(data = data_HA, x='Target', y='Value', edgecolor='black', \n",
    "           jitter=True, dodge=True, linewidth=1, s=9, hue=\"Condition\", hue_order=['NoNS2','NS2'],  alpha = 0.5)\n",
    "\n",
    "sns.despine()\n",
    "ax.legend( ['-NS2','+NS2'], bbox_to_anchor=(1.05, 0.7), loc=2, borderaxespad=0.,frameon=False, title='HA')\n",
    "\n",
    "plt.ylabel('log$2$(1600/length)')\n",
    "\n",
    "for legend_handle in ax.get_legend().legendHandles:  \n",
    "       legend_handle.set_edgecolor('black')\n",
    "    \n",
    "for position, target in enumerate(['200nt', '400nt', '800nt']):\n",
    "    y = data_HA[(data_HA.Condition == 'NoNS2') & (data_HA.Target == target)].Value.mean()\n",
    "    plt.plot([position-0.325, position-0.075], [y, y], lw=2, c='k', zorder=5)\n",
    "    y = data_HA[(data_HA.Condition == 'NS2') & (data_HA.Target == target)].Value.mean()\n",
    "    plt.plot([position+0.075, position+0.325], [y, y], lw=2, c='k', zorder=5)\n",
    "    \n",
    "#Independent t-test\n",
    "Size_200_NoNS2=data_HA[(data_HA.Condition == 'NoNS2') & (data_HA.Target == '200nt' )].Value\n",
    "Size_200_NS2=data_HA[(data_HA.Condition == 'NS2') & (data_HA.Target == '200nt')].Value\n",
    "t_stat, p_val_1 = stats.ttest_ind(Size_200_NoNS2, Size_200_NS2)\n",
    "print (p_val_1)\n",
    "\n",
    "Size_400_NoNS2=data_HA[(data_HA.Condition == 'NoNS2') & (data_HA.Target == '400nt' )].Value\n",
    "Size_400_NS2=data_HA[(data_HA.Condition == 'NS2') & (data_HA.Target == '400nt')].Value\n",
    "t_stat, p_val_2 = stats.ttest_ind(Size_400_NoNS2, Size_400_NS2)\n",
    "print (p_val_2)\n",
    "\n",
    "Size_800_NoNS2=data_HA[(data_HA.Condition == 'NoNS2') & (data_HA.Target == '800nt' )].Value\n",
    "Size_800_NS2=data_HA[(data_HA.Condition == 'NS2') & (data_HA.Target == '800nt')].Value\n",
    "t_stat, p_val_3 = stats.ttest_ind(Size_800_NoNS2, Size_800_NS2)\n",
    "print (p_val_3)\n",
    "\n",
    "plt.savefig('Figures/HA_Segment.pdf', format='pdf', bbox_inches = \"tight\")\n",
    "\n"
   ]
  },
  {
   "cell_type": "code",
   "execution_count": 2,
   "id": "073e9e8f",
   "metadata": {},
   "outputs": [
    {
     "data": {
      "text/html": [
       "<div>\n",
       "<style scoped>\n",
       "    .dataframe tbody tr th:only-of-type {\n",
       "        vertical-align: middle;\n",
       "    }\n",
       "\n",
       "    .dataframe tbody tr th {\n",
       "        vertical-align: top;\n",
       "    }\n",
       "\n",
       "    .dataframe thead th {\n",
       "        text-align: right;\n",
       "    }\n",
       "</style>\n",
       "<table border=\"1\" class=\"dataframe\">\n",
       "  <thead>\n",
       "    <tr style=\"text-align: right;\">\n",
       "      <th></th>\n",
       "      <th>Strand</th>\n",
       "      <th>Target</th>\n",
       "      <th>Condition</th>\n",
       "      <th>Replicate</th>\n",
       "      <th>Value</th>\n",
       "    </tr>\n",
       "  </thead>\n",
       "  <tbody>\n",
       "    <tr>\n",
       "      <th>0</th>\n",
       "      <td>PB2</td>\n",
       "      <td>200nt</td>\n",
       "      <td>NoNS2</td>\n",
       "      <td>1</td>\n",
       "      <td>3.9900</td>\n",
       "    </tr>\n",
       "    <tr>\n",
       "      <th>1</th>\n",
       "      <td>PB2</td>\n",
       "      <td>200nt</td>\n",
       "      <td>NoNS2</td>\n",
       "      <td>2</td>\n",
       "      <td>3.9400</td>\n",
       "    </tr>\n",
       "    <tr>\n",
       "      <th>2</th>\n",
       "      <td>PB2</td>\n",
       "      <td>200nt</td>\n",
       "      <td>NoNS2</td>\n",
       "      <td>3</td>\n",
       "      <td>4.0100</td>\n",
       "    </tr>\n",
       "    <tr>\n",
       "      <th>3</th>\n",
       "      <td>PB2</td>\n",
       "      <td>200nt</td>\n",
       "      <td>NoNS2</td>\n",
       "      <td>4</td>\n",
       "      <td>4.1400</td>\n",
       "    </tr>\n",
       "    <tr>\n",
       "      <th>4</th>\n",
       "      <td>PB2</td>\n",
       "      <td>200nt</td>\n",
       "      <td>NoNS2</td>\n",
       "      <td>5</td>\n",
       "      <td>4.4828</td>\n",
       "    </tr>\n",
       "  </tbody>\n",
       "</table>\n",
       "</div>"
      ],
      "text/plain": [
       "  Strand Target Condition  Replicate   Value\n",
       "0    PB2  200nt     NoNS2          1  3.9900\n",
       "1    PB2  200nt     NoNS2          2  3.9400\n",
       "2    PB2  200nt     NoNS2          3  4.0100\n",
       "3    PB2  200nt     NoNS2          4  4.1400\n",
       "4    PB2  200nt     NoNS2          5  4.4828"
      ]
     },
     "execution_count": 2,
     "metadata": {},
     "output_type": "execute_result"
    }
   ],
   "source": [
    "import pandas as pd\n",
    "import seaborn as sns\n",
    "import matplotlib.pyplot as plt\n",
    "import matplotlib.pyplot as plt\n",
    "import scipy\n",
    "from scipy import stats\n",
    "from statsmodels.stats import multitest\n",
    "import numpy as np\n",
    "from statsmodels.stats.multicomp import pairwise_tukeyhsd\n",
    "from scipy import stats\n",
    "from scipy.stats import ttest_rel\n",
    "\n",
    "data_PB2 = pd.read_csv(\"PB2_MG_NEP.csv\")\n",
    "data_PB2.head()"
   ]
  },
  {
   "cell_type": "code",
   "execution_count": 3,
   "id": "e459021e",
   "metadata": {},
   "outputs": [
    {
     "name": "stdout",
     "output_type": "stream",
     "text": [
      "3.289450890456795e-05\n",
      "0.2895331764939351\n",
      "0.9675034505079351\n"
     ]
    },
    {
     "data": {
      "image/png": "[encoded data removed]",
      "text/plain": [
       "<Figure size 432x288 with 1 Axes>"
      ]
     },
     "metadata": {
      "needs_background": "light"
     },
     "output_type": "display_data"
    }
   ],
   "source": [
    "nameOrder = ['200nt','400nt', '800nt']\n",
    "ax=sns.stripplot(data = data_PB2, x='Target', y='Value', edgecolor='black', \n",
    "           jitter=True, dodge=True, linewidth=1, s=9, hue=\"Condition\", hue_order=['NoNS2','NS2'],  alpha = 0.5)\n",
    "\n",
    "sns.despine()\n",
    "ax.legend( ['-NS2','+NS2'], bbox_to_anchor=(1.05, 0.7), loc=2, borderaxespad=0.,frameon=False, title='PB2')\n",
    "\n",
    "plt.ylabel('log$2$(1600/length)')\n",
    "\n",
    "for legend_handle in ax.get_legend().legendHandles:  \n",
    "       legend_handle.set_edgecolor('black')\n",
    "    \n",
    "for position, target in enumerate(['200nt', '400nt', '800nt']):\n",
    "    y = data_PB2[(data_PB2.Condition == 'NoNS2') & (data_PB2.Target == target)].Value.mean()\n",
    "    plt.plot([position-0.325, position-0.075], [y, y], lw=2, c='k', zorder=5)\n",
    "    y = data_PB2[(data_PB2.Condition == 'NS2') & (data_PB2.Target == target)].Value.mean()\n",
    "    plt.plot([position+0.075, position+0.325], [y, y], lw=2, c='k', zorder=5)\n",
    "    \n",
    "#Independent t-test\n",
    "Size_200_NoNS2=data_PB2[(data_PB2.Condition == 'NoNS2') & (data_PB2.Target == '200nt' )].Value\n",
    "Size_200_NS2=data_PB2[(data_PB2.Condition == 'NS2') & (data_PB2.Target == '200nt')].Value\n",
    "t_stat, p_val_1 = stats.ttest_ind(Size_200_NoNS2, Size_200_NS2)\n",
    "print (p_val_1)\n",
    "\n",
    "Size_400_NoNS2=data_PB2[(data_PB2.Condition == 'NoNS2') & (data_PB2.Target == '400nt' )].Value\n",
    "Size_400_NS2=data_PB2[(data_PB2.Condition == 'NS2') & (data_PB2.Target == '400nt')].Value\n",
    "t_stat, p_val_2 = stats.ttest_ind(Size_400_NoNS2, Size_400_NS2)\n",
    "print (p_val_2)\n",
    "\n",
    "Size_800_NoNS2=data_PB2[(data_PB2.Condition == 'NoNS2') & (data_PB2.Target == '800nt' )].Value\n",
    "Size_800_NS2=data_PB2[(data_PB2.Condition == 'NS2') & (data_PB2.Target == '800nt')].Value\n",
    "t_stat, p_val_3 = stats.ttest_ind(Size_800_NoNS2, Size_800_NS2)\n",
    "print (p_val_3)\n",
    "\n",
    "plt.savefig('Figures/PB2_Segment_6rep.pdf', format='pdf', bbox_inches = \"tight\")\n"
   ]
  },
  {
   "cell_type": "code",
   "execution_count": 29,
   "id": "496e6b01",
   "metadata": {},
   "outputs": [
    {
     "name": "stdout",
     "output_type": "stream",
     "text": [
      "0.00195421984134647\n",
      "0.003669140899004906\n",
      "0.06576353180562865\n"
     ]
    },
    {
     "data": {
      "image/png": "[encoded data removed]",
      "text/plain": [
       "<Figure size 432x288 with 1 Axes>"
      ]
     },
     "metadata": {
      "needs_background": "light"
     },
     "output_type": "display_data"
    }
   ],
   "source": [
    "import pandas as pd\n",
    "import seaborn as sns\n",
    "import matplotlib.pyplot as plt\n",
    "import matplotlib.pyplot as plt\n",
    "import scipy\n",
    "from scipy import stats\n",
    "from statsmodels.stats import multitest\n",
    "import numpy as np\n",
    "from statsmodels.stats.multicomp import pairwise_tukeyhsd\n",
    "from scipy import stats\n",
    "from scipy.stats import ttest_rel\n",
    "\n",
    "data_PB2 = pd.read_csv(\"PB2_MG_NEP_4rep.csv\")\n",
    "data_PB2.head()\n",
    "nameOrder = ['200nt','400nt', '800nt']\n",
    "ax=sns.stripplot(data = data_PB2, x='Target', y='Value', edgecolor='black', \n",
    "           jitter=True, dodge=True, linewidth=1, s=9, hue=\"Condition\", hue_order=['NoNS2','NS2'],  alpha = 0.5)\n",
    "\n",
    "sns.despine()\n",
    "ax.legend( ['-NS2','+NS2'], bbox_to_anchor=(1.05, 0.7), loc=2, borderaxespad=0.,frameon=False, title='PB2')\n",
    "\n",
    "plt.ylabel('log$2$(1600/length)')\n",
    "\n",
    "for legend_handle in ax.get_legend().legendHandles:  \n",
    "       legend_handle.set_edgecolor('black')\n",
    "    \n",
    "for position, target in enumerate(['200nt', '400nt', '800nt']):\n",
    "    y = data_PB2[(data_PB2.Condition == 'NoNS2') & (data_PB2.Target == target)].Value.mean()\n",
    "    plt.plot([position-0.325, position-0.075], [y, y], lw=2, c='k', zorder=5)\n",
    "    y = data_PB2[(data_PB2.Condition == 'NS2') & (data_PB2.Target == target)].Value.mean()\n",
    "    plt.plot([position+0.075, position+0.325], [y, y], lw=2, c='k', zorder=5)\n",
    "    \n",
    "#Independent t-test\n",
    "Size_200_NoNS2=data_PB2[(data_PB2.Condition == 'NoNS2') & (data_PB2.Target == '200nt' )].Value\n",
    "Size_200_NS2=data_PB2[(data_PB2.Condition == 'NS2') & (data_PB2.Target == '200nt')].Value\n",
    "t_stat, p_val_1 = stats.ttest_rel(Size_200_NoNS2, Size_200_NS2)\n",
    "print (p_val_1)\n",
    "\n",
    "Size_400_NoNS2=data_PB2[(data_PB2.Condition == 'NoNS2') & (data_PB2.Target == '400nt' )].Value\n",
    "Size_400_NS2=data_PB2[(data_PB2.Condition == 'NS2') & (data_PB2.Target == '400nt')].Value\n",
    "t_stat, p_val_2 = stats.ttest_rel(Size_400_NoNS2, Size_400_NS2)\n",
    "print (p_val_2)\n",
    "\n",
    "Size_800_NoNS2=data_PB2[(data_PB2.Condition == 'NoNS2') & (data_PB2.Target == '800nt' )].Value\n",
    "Size_800_NS2=data_PB2[(data_PB2.Condition == 'NS2') & (data_PB2.Target == '800nt')].Value\n",
    "t_stat, p_val_3 = stats.ttest_rel(Size_800_NoNS2, Size_800_NS2)\n",
    "print (p_val_3)\n",
    "\n",
    "plt.savefig('Figures/PB2_Segment.pdf', format='pdf', bbox_inches = \"tight\")\n"
   ]
  },
  {
   "cell_type": "code",
   "execution_count": 4,
   "id": "7e1b99ea",
   "metadata": {},
   "outputs": [
    {
     "name": "stdout",
     "output_type": "stream",
     "text": [
      "0.2574916282284425\n",
      "0.5331793345576443\n",
      "0.10315108114985094\n"
     ]
    },
    {
     "data": {
      "image/png": "[encoded data removed]",
      "text/plain": [
       "<Figure size 432x288 with 1 Axes>"
      ]
     },
     "metadata": {
      "needs_background": "light"
     },
     "output_type": "display_data"
    }
   ],
   "source": [
    "import pandas as pd\n",
    "import seaborn as sns\n",
    "import matplotlib.pyplot as plt\n",
    "import matplotlib.pyplot as plt\n",
    "import scipy\n",
    "from scipy import stats\n",
    "from statsmodels.stats import multitest\n",
    "import numpy as np\n",
    "from statsmodels.stats.multicomp import pairwise_tukeyhsd\n",
    "from scipy import stats\n",
    "from scipy.stats import ttest_rel\n",
    "\n",
    "data_PB2 = pd.read_csv(\"PA_MG_NEP_4.22.24.csv\")\n",
    "data_PB2.head()\n",
    "nameOrder = ['200nt','400nt', '800nt']\n",
    "ax=sns.stripplot(data = data_PB2, x='Target', y='Value', \n",
    "           jitter=True, dodge=True, linewidth=1, s=9, hue=\"Condition\", hue_order=['NoNS2','NS2'], palette=['1','0'], alpha = 1)\n",
    "\n",
    "sns.despine()\n",
    "ax.legend( ['-NS2','+NS2'], bbox_to_anchor=(0.9, 1.05), loc=2, fontsize = 12, borderaxespad=0.,frameon=False)\n",
    "\n",
    "plt.ylabel('log$2$(1600/length)', size=14)\n",
    "plt.ylim(1,6)\n",
    "plt.yticks(fontsize=12)\n",
    "plt.xlabel('Length', size = 14)\n",
    "plt.xticks(fontsize=12)\n",
    "\n",
    "for legend_handle in ax.get_legend().legendHandles:  \n",
    "       legend_handle.set_edgecolor('black')\n",
    "    \n",
    "for position, target in enumerate(['200nt', '400nt', '800nt']):\n",
    "    y = data_PB2[(data_PB2.Condition == 'NoNS2') & (data_PB2.Target == target)].Value.mean()\n",
    "    plt.plot([position-0.325, position-0.075], [y, y], lw=2, c='k', zorder=5)\n",
    "    y = data_PB2[(data_PB2.Condition == 'NS2') & (data_PB2.Target == target)].Value.mean()\n",
    "    plt.plot([position+0.075, position+0.325], [y, y], lw=2, c='k', zorder=5)\n",
    "    \n",
    "#Independent t-test\n",
    "Size_200_NoNS2=data_PB2[(data_PB2.Condition == 'NoNS2') & (data_PB2.Target == '200nt' )].Value\n",
    "Size_200_NS2=data_PB2[(data_PB2.Condition == 'NS2') & (data_PB2.Target == '200nt')].Value\n",
    "t_stat, p_val_1 = stats.ttest_ind(Size_200_NoNS2, Size_200_NS2)\n",
    "print (p_val_1)\n",
    "\n",
    "Size_400_NoNS2=data_PB2[(data_PB2.Condition == 'NoNS2') & (data_PB2.Target == '400nt' )].Value\n",
    "Size_400_NS2=data_PB2[(data_PB2.Condition == 'NS2') & (data_PB2.Target == '400nt')].Value\n",
    "t_stat, p_val_2 = stats.ttest_ind(Size_400_NoNS2, Size_400_NS2)\n",
    "print (p_val_2)\n",
    "\n",
    "Size_800_NoNS2=data_PB2[(data_PB2.Condition == 'NoNS2') & (data_PB2.Target == '800nt' )].Value\n",
    "Size_800_NS2=data_PB2[(data_PB2.Condition == 'NS2') & (data_PB2.Target == '800nt')].Value\n",
    "t_stat, p_val_3 = stats.ttest_ind(Size_800_NoNS2, Size_800_NS2)\n",
    "print (p_val_3)\n",
    "\n",
    "plt.savefig('Figures/PA_Segment.pdf', format='pdf', bbox_inches = \"tight\")\n"
   ]
  },
  {
   "cell_type": "code",
   "execution_count": 5,
   "id": "48072548",
   "metadata": {},
   "outputs": [
    {
     "name": "stdout",
     "output_type": "stream",
     "text": [
      "0.04022527319716889\n",
      "0.0033334167566062764\n",
      "0.007240891910779835\n"
     ]
    },
    {
     "data": {
      "image/png": "[encoded data removed]",
      "text/plain": [
       "<Figure size 432x288 with 1 Axes>"
      ]
     },
     "metadata": {
      "needs_background": "light"
     },
     "output_type": "display_data"
    }
   ],
   "source": [
    "import pandas as pd\n",
    "import seaborn as sns\n",
    "import matplotlib.pyplot as plt\n",
    "import matplotlib.pyplot as plt\n",
    "import scipy\n",
    "from scipy import stats\n",
    "from statsmodels.stats import multitest\n",
    "import numpy as np\n",
    "from statsmodels.stats.multicomp import pairwise_tukeyhsd\n",
    "from scipy import stats\n",
    "from scipy.stats import ttest_rel\n",
    "\n",
    "data_PB2 = pd.read_csv(\"NP_MG_NEP_4.22.24.csv\")\n",
    "data_PB2.head()\n",
    "nameOrder = ['200nt','400nt', '800nt']\n",
    "ax=sns.stripplot(data = data_PB2, x='Target', y='Value', \n",
    "           jitter=True, dodge=True, linewidth=1, s=9, hue=\"Condition\", hue_order=['NoNS2','NS2'], palette=['1','0'], alpha = 1)\n",
    "\n",
    "sns.despine()\n",
    "ax.legend( ['-NS2','+NS2'], bbox_to_anchor=(0.9, 1.05), loc=2, fontsize = 12, borderaxespad=0.,frameon=False)\n",
    "\n",
    "plt.ylabel('log$2$(1600/length)', size=14)\n",
    "plt.ylim(1,8)\n",
    "plt.yticks(fontsize=12)\n",
    "plt.xlabel('Length', size = 14)\n",
    "plt.xticks(fontsize=12)\n",
    "\n",
    "for legend_handle in ax.get_legend().legendHandles:  \n",
    "       legend_handle.set_edgecolor('black')\n",
    "    \n",
    "for position, target in enumerate(['200nt', '400nt', '800nt']):\n",
    "    y = data_PB2[(data_PB2.Condition == 'NoNS2') & (data_PB2.Target == target)].Value.mean()\n",
    "    plt.plot([position-0.325, position-0.075], [y, y], lw=2, c='k', zorder=5)\n",
    "    y = data_PB2[(data_PB2.Condition == 'NS2') & (data_PB2.Target == target)].Value.mean()\n",
    "    plt.plot([position+0.075, position+0.325], [y, y], lw=2, c='k', zorder=5)\n",
    "    \n",
    "#Independent t-test\n",
    "Size_200_NoNS2=data_PB2[(data_PB2.Condition == 'NoNS2') & (data_PB2.Target == '200nt' )].Value\n",
    "Size_200_NS2=data_PB2[(data_PB2.Condition == 'NS2') & (data_PB2.Target == '200nt')].Value\n",
    "t_stat, p_val_1 = stats.ttest_ind(Size_200_NoNS2, Size_200_NS2)\n",
    "print (p_val_1)\n",
    "\n",
    "Size_400_NoNS2=data_PB2[(data_PB2.Condition == 'NoNS2') & (data_PB2.Target == '400nt' )].Value\n",
    "Size_400_NS2=data_PB2[(data_PB2.Condition == 'NS2') & (data_PB2.Target == '400nt')].Value\n",
    "t_stat, p_val_2 = stats.ttest_ind(Size_400_NoNS2, Size_400_NS2)\n",
    "print (p_val_2)\n",
    "\n",
    "Size_800_NoNS2=data_PB2[(data_PB2.Condition == 'NoNS2') & (data_PB2.Target == '800nt' )].Value\n",
    "Size_800_NS2=data_PB2[(data_PB2.Condition == 'NS2') & (data_PB2.Target == '800nt')].Value\n",
    "t_stat, p_val_3 = stats.ttest_ind(Size_800_NoNS2, Size_800_NS2)\n",
    "print (p_val_3)\n",
    "\n",
    "plt.savefig('Figures/NP_Segment.pdf', format='pdf', bbox_inches = \"tight\")\n"
   ]
  },
  {
   "cell_type": "code",
   "execution_count": 7,
   "id": "f3cf0d24",
   "metadata": {},
   "outputs": [
    {
     "name": "stdout",
     "output_type": "stream",
     "text": [
      "0.07830101185555917\n",
      "0.03328003464785316\n",
      "0.12938025183588103\n"
     ]
    },
    {
     "data": {
      "image/png": "[encoded data removed]",
      "text/plain": [
       "<Figure size 432x288 with 1 Axes>"
      ]
     },
     "metadata": {
      "needs_background": "light"
     },
     "output_type": "display_data"
    }
   ],
   "source": [
    "import pandas as pd\n",
    "import seaborn as sns\n",
    "import matplotlib.pyplot as plt\n",
    "import matplotlib.pyplot as plt\n",
    "import scipy\n",
    "from scipy import stats\n",
    "from statsmodels.stats import multitest\n",
    "import numpy as np\n",
    "from statsmodels.stats.multicomp import pairwise_tukeyhsd\n",
    "from scipy import stats\n",
    "from scipy.stats import ttest_rel\n",
    "\n",
    "data_PB2 = pd.read_csv(\"NA_MG_NEP_4.22.24.csv\")\n",
    "data_PB2.head()\n",
    "nameOrder = ['200nt','400nt', '800nt']\n",
    "ax=sns.stripplot(data = data_PB2, x='Target', y='Value', \n",
    "           jitter=True, dodge=True, linewidth=1, s=9, hue=\"Condition\", hue_order=['NoNS2','NS2'], palette=['1','0'], alpha = 1)\n",
    "\n",
    "sns.despine()\n",
    "ax.legend( ['-NS2','+NS2'], bbox_to_anchor=(0.9, 1.05), loc=2, fontsize = 12, borderaxespad=0.,frameon=False)\n",
    "\n",
    "plt.ylabel('log$2$(1600/length)', size=14)\n",
    "plt.ylim(0,7)\n",
    "plt.yticks(fontsize=12)\n",
    "plt.xlabel('Length', size = 14)\n",
    "plt.xticks(fontsize=12)\n",
    "\n",
    "for legend_handle in ax.get_legend().legendHandles:  \n",
    "       legend_handle.set_edgecolor('black')\n",
    "    \n",
    "for position, target in enumerate(['200nt', '400nt', '800nt']):\n",
    "    y = data_PB2[(data_PB2.Condition == 'NoNS2') & (data_PB2.Target == target)].Value.mean()\n",
    "    plt.plot([position-0.325, position-0.075], [y, y], lw=2, c='k', zorder=5)\n",
    "    y = data_PB2[(data_PB2.Condition == 'NS2') & (data_PB2.Target == target)].Value.mean()\n",
    "    plt.plot([position+0.075, position+0.325], [y, y], lw=2, c='k', zorder=5)\n",
    "    \n",
    "#Independent t-test\n",
    "Size_200_NoNS2=data_PB2[(data_PB2.Condition == 'NoNS2') & (data_PB2.Target == '200nt' )].Value\n",
    "Size_200_NS2=data_PB2[(data_PB2.Condition == 'NS2') & (data_PB2.Target == '200nt')].Value\n",
    "t_stat, p_val_1 = stats.ttest_ind(Size_200_NoNS2, Size_200_NS2)\n",
    "print (p_val_1)\n",
    "\n",
    "Size_400_NoNS2=data_PB2[(data_PB2.Condition == 'NoNS2') & (data_PB2.Target == '400nt' )].Value\n",
    "Size_400_NS2=data_PB2[(data_PB2.Condition == 'NS2') & (data_PB2.Target == '400nt')].Value\n",
    "t_stat, p_val_2 = stats.ttest_ind(Size_400_NoNS2, Size_400_NS2)\n",
    "print (p_val_2)\n",
    "\n",
    "Size_800_NoNS2=data_PB2[(data_PB2.Condition == 'NoNS2') & (data_PB2.Target == '800nt' )].Value\n",
    "Size_800_NS2=data_PB2[(data_PB2.Condition == 'NS2') & (data_PB2.Target == '800nt')].Value\n",
    "t_stat, p_val_3 = stats.ttest_ind(Size_800_NoNS2, Size_800_NS2)\n",
    "print (p_val_3)\n",
    "\n",
    "plt.savefig('Figures/NA_Segment.pdf', format='pdf', bbox_inches = \"tight\")\n"
   ]
  },
  {
   "cell_type": "code",
   "execution_count": 8,
   "id": "722fb3f0",
   "metadata": {},
   "outputs": [
    {
     "name": "stdout",
     "output_type": "stream",
     "text": [
      "0.0757407127429892\n",
      "0.21852342146890696\n",
      "0.2980325889086364\n"
     ]
    },
    {
     "data": {
      "image/png": "[encoded data removed]",
      "text/plain": [
       "<Figure size 432x288 with 1 Axes>"
      ]
     },
     "metadata": {
      "needs_background": "light"
     },
     "output_type": "display_data"
    }
   ],
   "source": [
    "import pandas as pd\n",
    "import seaborn as sns\n",
    "import matplotlib.pyplot as plt\n",
    "import matplotlib.pyplot as plt\n",
    "import scipy\n",
    "from scipy import stats\n",
    "from statsmodels.stats import multitest\n",
    "import numpy as np\n",
    "from statsmodels.stats.multicomp import pairwise_tukeyhsd\n",
    "from scipy import stats\n",
    "from scipy.stats import ttest_rel\n",
    "\n",
    "data_PB2 = pd.read_csv(\"M_MG_NEP_5.3.24.csv\")\n",
    "data_PB2.head()\n",
    "nameOrder = ['200nt','400nt', '800nt']\n",
    "ax=sns.stripplot(data = data_PB2, x='Target', y='Value', \n",
    "           jitter=True, dodge=True, linewidth=1, s=9, hue=\"Condition\", hue_order=['NoNS2','NS2'], palette=['1','0'], alpha = 1)\n",
    "\n",
    "sns.despine()\n",
    "ax.legend( ['-NS2','+NS2'], bbox_to_anchor=(0.9, 1.05), loc=2, fontsize = 12, borderaxespad=0.,frameon=False)\n",
    "\n",
    "plt.ylabel('log$2$(1600/length)', size=14)\n",
    "plt.ylim(0,7)\n",
    "plt.yticks(fontsize=12)\n",
    "plt.xlabel('Length', size = 14)\n",
    "plt.xticks(fontsize=12)\n",
    "\n",
    "for legend_handle in ax.get_legend().legendHandles:  \n",
    "       legend_handle.set_edgecolor('black')\n",
    "    \n",
    "for position, target in enumerate(['200nt', '400nt', '800nt']):\n",
    "    y = data_PB2[(data_PB2.Condition == 'NoNS2') & (data_PB2.Target == target)].Value.mean()\n",
    "    plt.plot([position-0.325, position-0.075], [y, y], lw=2, c='k', zorder=5)\n",
    "    y = data_PB2[(data_PB2.Condition == 'NS2') & (data_PB2.Target == target)].Value.mean()\n",
    "    plt.plot([position+0.075, position+0.325], [y, y], lw=2, c='k', zorder=5)\n",
    "    \n",
    "#Independent t-test\n",
    "Size_200_NoNS2=data_PB2[(data_PB2.Condition == 'NoNS2') & (data_PB2.Target == '200nt' )].Value\n",
    "Size_200_NS2=data_PB2[(data_PB2.Condition == 'NS2') & (data_PB2.Target == '200nt')].Value\n",
    "t_stat, p_val_1 = stats.ttest_ind(Size_200_NoNS2, Size_200_NS2)\n",
    "print (p_val_1)\n",
    "\n",
    "Size_400_NoNS2=data_PB2[(data_PB2.Condition == 'NoNS2') & (data_PB2.Target == '400nt' )].Value\n",
    "Size_400_NS2=data_PB2[(data_PB2.Condition == 'NS2') & (data_PB2.Target == '400nt')].Value\n",
    "t_stat, p_val_2 = stats.ttest_ind(Size_400_NoNS2, Size_400_NS2)\n",
    "print (p_val_2)\n",
    "\n",
    "Size_800_NoNS2=data_PB2[(data_PB2.Condition == 'NoNS2') & (data_PB2.Target == '800nt' )].Value\n",
    "Size_800_NS2=data_PB2[(data_PB2.Condition == 'NS2') & (data_PB2.Target == '800nt')].Value\n",
    "t_stat, p_val_3 = stats.ttest_ind(Size_800_NoNS2, Size_800_NS2)\n",
    "print (p_val_3)\n",
    "\n",
    "plt.savefig('Figures/M_Segment.pdf', format='pdf', bbox_inches = \"tight\")\n"
   ]
  },
  {
   "cell_type": "code",
   "execution_count": 15,
   "id": "a15d5593",
   "metadata": {},
   "outputs": [
    {
     "name": "stdout",
     "output_type": "stream",
     "text": [
      "0.024394672058756794\n",
      "0.008197771862828204\n",
      "0.60110298147137\n"
     ]
    },
    {
     "data": {
      "image/png": "[encoded data removed]",
      "text/plain": [
       "<Figure size 432x288 with 1 Axes>"
      ]
     },
     "metadata": {
      "needs_background": "light"
     },
     "output_type": "display_data"
    }
   ],
   "source": [
    "import pandas as pd\n",
    "import seaborn as sns\n",
    "import matplotlib.pyplot as plt\n",
    "import matplotlib.pyplot as plt\n",
    "import scipy\n",
    "from scipy import stats\n",
    "from statsmodels.stats import multitest\n",
    "import numpy as np\n",
    "from statsmodels.stats.multicomp import pairwise_tukeyhsd\n",
    "from scipy import stats\n",
    "from scipy.stats import ttest_rel\n",
    "\n",
    "data_PB2 = pd.read_csv(\"NS_MG_NEP_5.3.24.csv\")\n",
    "data_PB2.head()\n",
    "nameOrder = ['200nt','400nt', '800nt']\n",
    "ax=sns.stripplot(data = data_PB2, x='Target', y='Value', \n",
    "           jitter=True, dodge=True, linewidth=1, s=9, hue=\"Condition\", hue_order=['NoNS2','NS2'], palette=['1','0'], alpha = 1)\n",
    "\n",
    "sns.despine()\n",
    "ax.legend( ['-NS2','+NS2'], bbox_to_anchor=(0.9, 1.05), loc=2, fontsize = 12, borderaxespad=0.,frameon=False)\n",
    "\n",
    "plt.ylabel('log$2$(1600/length)', size=14)\n",
    "plt.ylim(0,5)\n",
    "plt.yticks(fontsize=12)\n",
    "plt.xlabel('Length', size = 14)\n",
    "plt.xticks(fontsize=12)\n",
    "\n",
    "for legend_handle in ax.get_legend().legendHandles:  \n",
    "       legend_handle.set_edgecolor('black')\n",
    "    \n",
    "for position, target in enumerate(['200nt', '400nt', '800nt']):\n",
    "    y = data_PB2[(data_PB2.Condition == 'NoNS2') & (data_PB2.Target == target)].Value.mean()\n",
    "    plt.plot([position-0.325, position-0.075], [y, y], lw=2, c='k', zorder=5)\n",
    "    y = data_PB2[(data_PB2.Condition == 'NS2') & (data_PB2.Target == target)].Value.mean()\n",
    "    plt.plot([position+0.075, position+0.325], [y, y], lw=2, c='k', zorder=5)\n",
    "    \n",
    "#Independent t-test\n",
    "Size_200_NoNS2=data_PB2[(data_PB2.Condition == 'NoNS2') & (data_PB2.Target == '200nt' )].Value\n",
    "Size_200_NS2=data_PB2[(data_PB2.Condition == 'NS2') & (data_PB2.Target == '200nt')].Value\n",
    "t_stat, p_val_1 = stats.ttest_ind(Size_200_NoNS2, Size_200_NS2)\n",
    "print (p_val_1)\n",
    "\n",
    "Size_400_NoNS2=data_PB2[(data_PB2.Condition == 'NoNS2') & (data_PB2.Target == '400nt' )].Value\n",
    "Size_400_NS2=data_PB2[(data_PB2.Condition == 'NS2') & (data_PB2.Target == '400nt')].Value\n",
    "t_stat, p_val_2 = stats.ttest_ind(Size_400_NoNS2, Size_400_NS2)\n",
    "print (p_val_2)\n",
    "\n",
    "Size_800_NoNS2=data_PB2[(data_PB2.Condition == 'NoNS2') & (data_PB2.Target == '800nt' )].Value\n",
    "Size_800_NS2=data_PB2[(data_PB2.Condition == 'NS2') & (data_PB2.Target == '800nt')].Value\n",
    "t_stat, p_val_3 = stats.ttest_ind(Size_800_NoNS2, Size_800_NS2)\n",
    "print (p_val_3)\n",
    "\n",
    "plt.savefig('Figures/NS_Segment.pdf', format='pdf', bbox_inches = \"tight\")\n"
   ]
  },
  {
   "cell_type": "code",
   "execution_count": null,
   "id": "5c938185",
   "metadata": {},
   "outputs": [],
   "source": []
  }
 ],
 "metadata": {
  "kernelspec": {
   "display_name": "Python 3 (ipykernel)",
   "language": "python",
   "name": "python3"
  },
  "language_info": {
   "codemirror_mode": {
    "name": "ipython",
    "version": 3
   },
   "file_extension": ".py",
   "mimetype": "text/x-python",
   "name": "python",
   "nbconvert_exporter": "python",
   "pygments_lexer": "ipython3",
   "version": "3.9.7"
  }
 },
 "nbformat": 4,
 "nbformat_minor": 5
}
